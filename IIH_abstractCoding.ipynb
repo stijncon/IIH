{
 "cells": [
  {
   "cell_type": "code",
   "execution_count": 1,
   "id": "ccefdc29-c78c-448f-a714-dafe0b72fc41",
   "metadata": {},
   "outputs": [],
   "source": [
    "import pandas as pd"
   ]
  },
  {
   "cell_type": "markdown",
   "id": "1abba6b5-bb0e-4809-b9a2-b83806934566",
   "metadata": {},
   "source": [
    "# Create document for coding"
   ]
  },
  {
   "cell_type": "code",
   "execution_count": 2,
   "id": "4f26c885-50ce-4722-95b0-d618c89ec4fe",
   "metadata": {},
   "outputs": [
    {
     "data": {
      "text/html": [
       "<div>\n",
       "<style scoped>\n",
       "    .dataframe tbody tr th:only-of-type {\n",
       "        vertical-align: middle;\n",
       "    }\n",
       "\n",
       "    .dataframe tbody tr th {\n",
       "        vertical-align: top;\n",
       "    }\n",
       "\n",
       "    .dataframe thead th {\n",
       "        text-align: right;\n",
       "    }\n",
       "</style>\n",
       "<table border=\"1\" class=\"dataframe\">\n",
       "  <thead>\n",
       "    <tr style=\"text-align: right;\">\n",
       "      <th></th>\n",
       "      <th>ORIGINAL_INDEX</th>\n",
       "      <th>DOI</th>\n",
       "      <th>TITLE</th>\n",
       "      <th>ABSTRACT</th>\n",
       "    </tr>\n",
       "  </thead>\n",
       "  <tbody>\n",
       "    <tr>\n",
       "      <th>0</th>\n",
       "      <td>101</td>\n",
       "      <td>10.1044/2015_JSLHR-S-14-0248</td>\n",
       "      <td>Classroom Noise and Teachers' Voice Production</td>\n",
       "      <td>Purpose: The aim of this study was to research...</td>\n",
       "    </tr>\n",
       "    <tr>\n",
       "      <th>1</th>\n",
       "      <td>121</td>\n",
       "      <td>10.1515/9783110338775</td>\n",
       "      <td>New Perspectives on Chinese Syntax</td>\n",
       "      <td>Mandarin Chinese has become indispensable for ...</td>\n",
       "    </tr>\n",
       "    <tr>\n",
       "      <th>2</th>\n",
       "      <td>8</td>\n",
       "      <td>10.1177/0022009416683024</td>\n",
       "      <td>Absence in the Aftermath</td>\n",
       "      <td>An estimated six million European Jews perishe...</td>\n",
       "    </tr>\n",
       "    <tr>\n",
       "      <th>3</th>\n",
       "      <td>103</td>\n",
       "      <td>10.1177/0142723715626071</td>\n",
       "      <td>Literacy discussions in low-income families: T...</td>\n",
       "      <td>This study examines the effects of four types ...</td>\n",
       "    </tr>\n",
       "    <tr>\n",
       "      <th>4</th>\n",
       "      <td>27</td>\n",
       "      <td>10.1017/9781108278386</td>\n",
       "      <td>Transatlantic Antifascisms: From the Spanish C...</td>\n",
       "      <td>Antifascism has received little attention comp...</td>\n",
       "    </tr>\n",
       "  </tbody>\n",
       "</table>\n",
       "</div>"
      ],
      "text/plain": [
       "   ORIGINAL_INDEX                           DOI  \\\n",
       "0             101  10.1044/2015_JSLHR-S-14-0248   \n",
       "1             121         10.1515/9783110338775   \n",
       "2               8      10.1177/0022009416683024   \n",
       "3             103      10.1177/0142723715626071   \n",
       "4              27         10.1017/9781108278386   \n",
       "\n",
       "                                               TITLE  \\\n",
       "0     Classroom Noise and Teachers' Voice Production   \n",
       "1                 New Perspectives on Chinese Syntax   \n",
       "2                           Absence in the Aftermath   \n",
       "3  Literacy discussions in low-income families: T...   \n",
       "4  Transatlantic Antifascisms: From the Spanish C...   \n",
       "\n",
       "                                            ABSTRACT  \n",
       "0  Purpose: The aim of this study was to research...  \n",
       "1  Mandarin Chinese has become indispensable for ...  \n",
       "2  An estimated six million European Jews perishe...  \n",
       "3  This study examines the effects of four types ...  \n",
       "4  Antifascism has received little attention comp...  "
      ]
     },
     "execution_count": 2,
     "metadata": {},
     "output_type": "execute_result"
    }
   ],
   "source": [
    "data = pd.read_csv(r\"C:\\Users\\conix\\Dropbox\\aWriting\\humanities impact\\follow up study\\IIH_followupdata_version3.csv\", sep = \";\").reset_index().rename(columns={'index': 'ORIGINAL_INDEX'})\n",
    "\n",
    "# keep relevant columns and shuffle to avoid order effects\n",
    "coding_doc = data[['ORIGINAL_INDEX','DOI','TITLE','ABSTRACT']].sample(frac = 1,ignore_index=True)\n",
    "coding_doc.to_csv(r\"C:\\Users\\conix\\Dropbox\\aWriting\\humanities impact\\follow up study\\abstract_coding\\IIH_codingStudy2.csv\", sep = \";\")\n",
    "coding_doc.head()"
   ]
  }
 ],
 "metadata": {
  "kernelspec": {
   "display_name": "Python 3 (ipykernel)",
   "language": "python",
   "name": "python3"
  },
  "language_info": {
   "codemirror_mode": {
    "name": "ipython",
    "version": 3
   },
   "file_extension": ".py",
   "mimetype": "text/x-python",
   "name": "python",
   "nbconvert_exporter": "python",
   "pygments_lexer": "ipython3",
   "version": "3.11.7"
  }
 },
 "nbformat": 4,
 "nbformat_minor": 5
}
